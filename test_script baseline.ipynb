{
 "cells": [
  {
   "cell_type": "code",
   "execution_count": 1,
   "metadata": {},
   "outputs": [],
   "source": [
    "import time\n",
    "import torch\n",
    "from datasets import load_dataset\n",
    "from transformers import AutoModelForCausalLM, AutoTokenizer, pipeline\n",
    "from transformers.pipelines.pt_utils import KeyDataset"
   ]
  },
  {
   "cell_type": "code",
   "execution_count": 2,
   "metadata": {},
   "outputs": [
    {
     "data": {
      "application/vnd.jupyter.widget-view+json": {
       "model_id": "53a9de76f9aa4ee0b23532a96f8713cf",
       "version_major": 2,
       "version_minor": 0
      },
      "text/plain": [
       "Loading checkpoint shards:   0%|          | 0/6 [00:00<?, ?it/s]"
      ]
     },
     "metadata": {},
     "output_type": "display_data"
    }
   ],
   "source": [
    "####### Section 1. Set up #######\n",
    "torch.random.manual_seed(0)\n",
    "model_id = \"./models/Phi-3-medium-4k-instruct\" # please replace with local model path\n",
    "model = AutoModelForCausalLM.from_pretrained(\n",
    "    model_id,\n",
    "    device_map=\"auto\",\n",
    "    torch_dtype=\"auto\",\n",
    "    trust_remote_code=True,\n",
    ")\n",
    "tokenizer = AutoTokenizer.from_pretrained(model_id)\n",
    " \n",
    "pipe = pipeline(\n",
    "    \"text-generation\",\n",
    "    model=model,\n",
    "    tokenizer=tokenizer,\n",
    ")"
   ]
  },
  {
   "cell_type": "code",
   "execution_count": 3,
   "metadata": {},
   "outputs": [],
   "source": [
    "generation_args = {\n",
    "    \"max_new_tokens\": 20,\n",
    "    \"return_full_text\": False,\n",
    "    \"temperature\": 0.0, #decoding할 때 확률값을 random으로 줌. \n",
    "    \"do_sample\": False,\n",
    "    \"batch_size\": 100 , # batch size를 지정함. \n",
    "}"
   ]
  },
  {
   "cell_type": "code",
   "execution_count": 4,
   "metadata": {},
   "outputs": [],
   "source": [
    "torch.cuda.empty_cache() #cache를 지움"
   ]
  },
  {
   "cell_type": "code",
   "execution_count": 5,
   "metadata": {},
   "outputs": [
    {
     "name": "stderr",
     "output_type": "stream",
     "text": [
      "/home/elicer/miniconda3/envs/yaikids/lib/python3.10/site-packages/transformers/generation/configuration_utils.py:599: UserWarning: `do_sample` is set to `False`. However, `temperature` is set to `0.0` -- this flag is only used in sample-based generation modes. You should set `do_sample=True` or unset `temperature`.\n",
      "  warnings.warn(\n",
      "The `seen_tokens` attribute is deprecated and will be removed in v4.41. Use the `cache_position` model input instead.\n",
      "You are not running the flash-attention implementation, expect numerical differences.\n"
     ]
    }
   ],
   "source": [
    "####### Section 3. Load data and Inference -> Performance evaluation part #######\n",
    "start = time.time()\n",
    "data = load_dataset(\"json\", data_files=\"./data/test_dataset.jsonl\")['train']\n",
    "outs = pipe(KeyDataset(data, 'message'), **generation_args)\n",
    "end = time.time()"
   ]
  },
  {
   "cell_type": "code",
   "execution_count": 6,
   "metadata": {},
   "outputs": [
    {
     "data": {
      "text/plain": [
       "[[{'generated_text': ' Deep sea animals'}],\n",
       " [{'generated_text': ' is standard weight and size'}],\n",
       " [{'generated_text': ' they are genetically called to'}],\n",
       " [{'generated_text': ' south'}],\n",
       " [{'generated_text': ' An aircraft taking a trip'}],\n",
       " [{'generated_text': ' protozoa'}],\n",
       " [{'generated_text': ' Green house'}],\n",
       " [{'generated_text': ' it unfreezes, because it is cold-blooded'}],\n",
       " [{'generated_text': ' It holds 500 mL of water'}],\n",
       " [{'generated_text': ' the air becomes arid'}],\n",
       " [{'generated_text': ' July'}],\n",
       " [{'generated_text': ' speaking with a witness'}],\n",
       " [{'generated_text': ' shell'}],\n",
       " [{'generated_text': ' the final barrel is gone, there supply is finished\\n'}],\n",
       " [{'generated_text': ' particles of iron'}],\n",
       " [{'generated_text': ' H2O haze'}],\n",
       " [{'generated_text': ' constellations to appear in one place in spring and another in fall'}],\n",
       " [{'generated_text': ' glucose'}],\n",
       " [{'generated_text': ' help prevent the effects of erosion'}],\n",
       " [{'generated_text': ' wind'}],\n",
       " [{'generated_text': ' salvage plastic bottles instead of throwing them away'}],\n",
       " [{'generated_text': ' less energy used by the water heater'}],\n",
       " [{'generated_text': ' people driving cars might be unaware the animal is close by'}],\n",
       " [{'generated_text': ' light from our closest star'}],\n",
       " [{'generated_text': ' the darkness is greatest'}],\n",
       " [{'generated_text': ' Water'}],\n",
       " [{'generated_text': ' clothing'}],\n",
       " [{'generated_text': ' a cut peony'}],\n",
       " [{'generated_text': \" an alligator's habitat\"}],\n",
       " [{'generated_text': ' has seeds outside the flesh, unlike the blueberry'}]]"
      ]
     },
     "execution_count": 6,
     "metadata": {},
     "output_type": "execute_result"
    }
   ],
   "source": [
    "outs"
   ]
  },
  {
   "cell_type": "code",
   "execution_count": null,
   "metadata": {},
   "outputs": [],
   "source": [
    "####### Section 4. Accuracy (Just for leasderboard) #######\n",
    "print(\"===== Answers =====\")\n",
    "correct = 0\n",
    "for i, out in enumerate(outs):\n",
    "    correct_answer = data[i][\"answer\"]\n",
    "    answer = out[0][\"generated_text\"].lstrip().replace(\"\\n\",\"\")\n",
    "    if answer == correct_answer:\n",
    "        correct += 1\n",
    "    # print(answer)\n",
    " \n",
    "print(\"===== Perf result =====\")\n",
    "print(\"Elapsed_time: \", end-start)\n",
    "print(f\"Correctness: {correct}/{len(data)}\")"
   ]
  },
  {
   "cell_type": "code",
   "execution_count": null,
   "metadata": {},
   "outputs": [],
   "source": [
    "####### Section 4. Accuracy (Just for leasderboard) #######\n",
    "print(\"===== Answers =====\")\n",
    "correct = 0\n",
    "for i, out in enumerate(outs):\n",
    "    correct_answer = data[i][\"answer\"]\n",
    "    # 생성된 답변에서 불필요한 텍스트 제거\n",
    "    answer = out.outputs[0].text\n",
    "    cleaned_answer = re.sub(r\"A:\\n\\n\\n### response ###\\n\\n|\\n### response ###\\n\\n|A: |\\nB:\", \"\", answer).lstrip().replace(\"\\n\",\"\")\n",
    "    cleaned_answer = cleaned_answer.replace(\"answer: \",\"\")\n",
    "    \n",
    "    # 정답과 출력된 답변을 비교\n",
    "    print(f\"Correct Answer: {correct_answer}\")\n",
    "    print(f\"Generated Answer: {cleaned_answer}\")\n",
    "    if answer == cleaned_answer:\n",
    "        correct += 1\n",
    "        print(answer,\"correct!!\")\n",
    " \n",
    "print(\"===== Perf result =====\")\n",
    "print(\"Elapsed_time: \", end-start)\n",
    "print(f\"Correctness: {correct}/{len(data)}\")"
   ]
  }
 ],
 "metadata": {
  "kernelspec": {
   "display_name": "yaikids",
   "language": "python",
   "name": "python3"
  },
  "language_info": {
   "codemirror_mode": {
    "name": "ipython",
    "version": 3
   },
   "file_extension": ".py",
   "mimetype": "text/x-python",
   "name": "python",
   "nbconvert_exporter": "python",
   "pygments_lexer": "ipython3",
   "version": "3.10.14"
  }
 },
 "nbformat": 4,
 "nbformat_minor": 2
}
