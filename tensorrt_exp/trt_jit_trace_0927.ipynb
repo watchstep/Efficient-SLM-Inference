{
 "cells": [
  {
   "cell_type": "code",
   "execution_count": 1,
   "metadata": {},
   "outputs": [
    {
     "name": "stderr",
     "output_type": "stream",
     "text": [
      "WARNING:torch_tensorrt.dynamo.conversion.aten_ops_converters:Unable to import quantization op. Please install modelopt library (https://github.com/NVIDIA/TensorRT-Model-Optimizer?tab=readme-ov-file#installation) to add support for compiling quantized models\n"
     ]
    }
   ],
   "source": [
    "import os\n",
    "import time\n",
    "\n",
    "import numpy as np\n",
    "import torch\n",
    "\n",
    "import onnx\n",
    "import onnxruntime as ort\n",
    "from onnxruntime import InferenceSession\n",
    "\n",
    "import warnings\n",
    "\n",
    "import argparse\n",
    "\n",
    "from datasets import load_dataset\n",
    "from transformers import (AutoModelForCausalLM,\n",
    "                          AutoTokenizer, \n",
    "                          Phi3ForCausalLM,\n",
    "                          Phi3Config,\n",
    "                          pipeline,\n",
    "                          )\n",
    "from transformers.pipelines.pt_utils import KeyDataset\n",
    "from huggingface_hub import hf_hub_download\n",
    "import torch_tensorrt \n",
    "import utils\n",
    "import torch.backends.cudnn as cudnn\n",
    "\n",
    "from onnxtensorrt.onnx_tensorrt import backend\n",
    "device = torch.device( \"cuda\" if torch.cuda.is_available() else cpu )"
   ]
  },
  {
   "cell_type": "code",
   "execution_count": 2,
   "metadata": {},
   "outputs": [],
   "source": [
    "# 특정 경고 무시\n",
    "warnings.filterwarnings(\"ignore\", category=torch.jit.TracerWarning)"
   ]
  },
  {
   "cell_type": "code",
   "execution_count": 3,
   "metadata": {},
   "outputs": [],
   "source": [
    "parser = argparse.ArgumentParser(description=\"TensorRT\")\n",
    "parser.add_argument(\"--model_path\", type=str, default=\"models/\")\n",
    "parser.add_argument(\"--model_name\", type=str, default=\"Phi-3-medium-4k-instruct\")\n",
    "parser.add_argument(\"--data_path\", type=str, default=\"data/\")\n",
    "parser.add_argument(\"--dataset\", type=str, default=\"test_dataset.jsonl\")\n",
    "parser.add_argument('--seed',type=int, default=0)\n",
    "parser.add_argument(\"--batch_size\", type=int, default=1)\n",
    "parser.add_argument('--dtype',type=str, default=\"auto\")\n",
    "parser.add_argument('--n', type=int, default=1)\n",
    "parser.add_argument('--temperature', type=float, default=0.0)\n",
    "\n",
    "config = parser.parse_args([])\n",
    "\n",
    "utils.seed_everything(config.seed)\n",
    "CURR_PATH = os.getcwd()"
   ]
  },
  {
   "cell_type": "code",
   "execution_count": 4,
   "metadata": {},
   "outputs": [],
   "source": [
    "# 1. 모델 및 토크나이저 로드\n",
    "model_id = os.path.join(CURR_PATH, config.model_path, config.model_name)\n",
    "tokenizer = AutoTokenizer.from_pretrained(model_id, trust_remote_code=True)"
   ]
  },
  {
   "cell_type": "code",
   "execution_count": 5,
   "metadata": {},
   "outputs": [],
   "source": [
    "# GPU 메모리 캐시 초기화\n",
    "torch.cuda.empty_cache()\n",
    "\n",
    "# CUDA 캐싱 할당기에서 할당된 모든 메모리 해제\n",
    "torch.cuda.reset_peak_memory_stats()"
   ]
  },
  {
   "cell_type": "code",
   "execution_count": 6,
   "metadata": {},
   "outputs": [],
   "source": [
    "# Load the ONNX model\n",
    "onnx_model_path = \"./cuda-fp16/phi3-medium-4k-instruct-cuda-fp16.onnx\"\n",
    "onnx_model = onnx.load(onnx_model_path)"
   ]
  },
  {
   "cell_type": "code",
   "execution_count": null,
   "metadata": {},
   "outputs": [],
   "source": [
    "# Load the ONNX model with TensorRT optimization via Torch-TensorRT\n",
    "trt_model = torch_tensorrt.compile(\n",
    "    onnx_model,\n",
    "    inputs=[torch_tensorrt.Input((1, 828))],  # Adjust this according to the input size\n",
    "    enabled_precisions={torch.half},  # Run in FP16\n",
    "    device=torch_tensorrt.Device(gpu_id=0, dla_core=0, allow_gpu_fallback=True)\n",
    ")\n",
    "\n",
    "# Save the TensorRT optimized engine\n",
    "torch.jit.save(trt_model, \"phi3_trt_model.ts\")"
   ]
  },
  {
   "cell_type": "code",
   "execution_count": 7,
   "metadata": {},
   "outputs": [
    {
     "data": {
      "application/vnd.jupyter.widget-view+json": {
       "model_id": "cf29c5b1dddd46b4965e8409d16ddb25",
       "version_major": 2,
       "version_minor": 0
      },
      "text/plain": [
       "Generating train split: 0 examples [00:00, ? examples/s]"
      ]
     },
     "metadata": {},
     "output_type": "display_data"
    },
    {
     "ename": "NameError",
     "evalue": "name 'engine' is not defined",
     "output_type": "error",
     "traceback": [
      "\u001b[0;31m---------------------------------------------------------------------------\u001b[0m",
      "\u001b[0;31mNameError\u001b[0m                                 Traceback (most recent call last)",
      "\u001b[1;32m/home/elicer/LLMInference/trt_jit_trace_0927.ipynb Cell 8\u001b[0m line \u001b[0;36m2\n\u001b[1;32m     <a href='vscode-notebook-cell://xcxcpbadqymzxmhe.tunnel-pt.elice.io/home/elicer/LLMInference/trt_jit_trace_0927.ipynb#X10sdnNjb2RlLXJlbW90ZQ%3D%3D?line=19'>20</a>\u001b[0m \u001b[39m# shape => torch.Size([32, 868])\u001b[39;00m\n\u001b[1;32m     <a href='vscode-notebook-cell://xcxcpbadqymzxmhe.tunnel-pt.elice.io/home/elicer/LLMInference/trt_jit_trace_0927.ipynb#X10sdnNjb2RlLXJlbW90ZQ%3D%3D?line=20'>21</a>\u001b[0m \n\u001b[1;32m     <a href='vscode-notebook-cell://xcxcpbadqymzxmhe.tunnel-pt.elice.io/home/elicer/LLMInference/trt_jit_trace_0927.ipynb#X10sdnNjb2RlLXJlbW90ZQ%3D%3D?line=21'>22</a>\u001b[0m \u001b[39m# # 추론 실행\u001b[39;00m\n\u001b[1;32m     <a href='vscode-notebook-cell://xcxcpbadqymzxmhe.tunnel-pt.elice.io/home/elicer/LLMInference/trt_jit_trace_0927.ipynb#X10sdnNjb2RlLXJlbW90ZQ%3D%3D?line=22'>23</a>\u001b[0m \u001b[39mwith\u001b[39;00m torch\u001b[39m.\u001b[39mno_grad():\n\u001b[1;32m     <a href='vscode-notebook-cell://xcxcpbadqymzxmhe.tunnel-pt.elice.io/home/elicer/LLMInference/trt_jit_trace_0927.ipynb#X10sdnNjb2RlLXJlbW90ZQ%3D%3D?line=23'>24</a>\u001b[0m \u001b[39m#     outs = trt_model.generate(\u001b[39;00m\n\u001b[1;32m     <a href='vscode-notebook-cell://xcxcpbadqymzxmhe.tunnel-pt.elice.io/home/elicer/LLMInference/trt_jit_trace_0927.ipynb#X10sdnNjb2RlLXJlbW90ZQ%3D%3D?line=24'>25</a>\u001b[0m \u001b[39m#         input_ids=inputs[\"input_ids\"],\u001b[39;00m\n\u001b[1;32m     <a href='vscode-notebook-cell://xcxcpbadqymzxmhe.tunnel-pt.elice.io/home/elicer/LLMInference/trt_jit_trace_0927.ipynb#X10sdnNjb2RlLXJlbW90ZQ%3D%3D?line=25'>26</a>\u001b[0m \u001b[39m#         attention_mask=inputs.get(\"attention_mask\"),\u001b[39;00m\n\u001b[1;32m     <a href='vscode-notebook-cell://xcxcpbadqymzxmhe.tunnel-pt.elice.io/home/elicer/LLMInference/trt_jit_trace_0927.ipynb#X10sdnNjb2RlLXJlbW90ZQ%3D%3D?line=26'>27</a>\u001b[0m \u001b[39m#         **generation_args\u001b[39;00m\n\u001b[1;32m     <a href='vscode-notebook-cell://xcxcpbadqymzxmhe.tunnel-pt.elice.io/home/elicer/LLMInference/trt_jit_trace_0927.ipynb#X10sdnNjb2RlLXJlbW90ZQ%3D%3D?line=27'>28</a>\u001b[0m \u001b[39m#     )\u001b[39;00m\n\u001b[0;32m---> <a href='vscode-notebook-cell://xcxcpbadqymzxmhe.tunnel-pt.elice.io/home/elicer/LLMInference/trt_jit_trace_0927.ipynb#X10sdnNjb2RlLXJlbW90ZQ%3D%3D?line=28'>29</a>\u001b[0m     output_data \u001b[39m=\u001b[39m engine\u001b[39m.\u001b[39mrun(inputs)[\u001b[39m0\u001b[39m]\n\u001b[1;32m     <a href='vscode-notebook-cell://xcxcpbadqymzxmhe.tunnel-pt.elice.io/home/elicer/LLMInference/trt_jit_trace_0927.ipynb#X10sdnNjb2RlLXJlbW90ZQ%3D%3D?line=30'>31</a>\u001b[0m \u001b[39mprint\u001b[39m(output_data)\n\u001b[1;32m     <a href='vscode-notebook-cell://xcxcpbadqymzxmhe.tunnel-pt.elice.io/home/elicer/LLMInference/trt_jit_trace_0927.ipynb#X10sdnNjb2RlLXJlbW90ZQ%3D%3D?line=31'>32</a>\u001b[0m \u001b[39mprint\u001b[39m(output_data\u001b[39m.\u001b[39mshape)\n",
      "\u001b[0;31mNameError\u001b[0m: name 'engine' is not defined"
     ]
    }
   ],
   "source": [
    "# torch.cuda.synchronize()\n",
    "\n",
    "# 추론 시작 시간 측정\n",
    "start = time.perf_counter()\n",
    "\n",
    "# 데이터 로드\n",
    "data = load_dataset(\"json\", data_files=\"./data/test_dataset.jsonl\")['train']\n",
    "messages = KeyDataset(data, 'message')\n",
    "\n",
    "# 시스템 프롬프트 정의\n",
    "sys = \"You are a helpful AI Assistant. Do not hallucinate.\"\n",
    "\n",
    "# 메시지 준비\n",
    "messages = list(messages)\n",
    "token_ids = tokenizer.apply_chat_template(messages, add_generation_prompt=True, tokenize=False)\n",
    "token_ids.insert(0, \"<|system|>\" + sys + \"<|end|>\")\n",
    "\n",
    "# 입력 텐서로 변환 및 데이터 타입 변경\n",
    "inputs = tokenizer(token_ids, return_tensors=\"pt\", padding=True).to(\"cuda\")\n",
    "# shape => torch.Size([32, 868])\n",
    "\n",
    "# # 추론 실행\n",
    "with torch.no_grad():\n",
    "#     outs = trt_model.generate(\n",
    "#         input_ids=inputs[\"input_ids\"],\n",
    "#         attention_mask=inputs.get(\"attention_mask\"),\n",
    "#         **generation_args\n",
    "#     )\n",
    "    output_data = engine.run(inputs)[0]\n",
    "\n",
    "print(output_data)\n",
    "print(output_data.shape)\n",
    "\n",
    "# with torch.no_grad():\n",
    "#     # ONNX Runtime 입력으로 변환\n",
    "#     onnx_inputs = {\n",
    "#         'input_ids': inputs['input_ids'].cpu().numpy(),\n",
    "#         'attention_mask': inputs.get('attention_mask', None).cpu().numpy() if 'attention_mask' in inputs else None\n",
    "#     }\n",
    "#     # 추론 실행\n",
    "#     ort_outputs = session.run(None, onnx_inputs)\n",
    "\n",
    "# 생성된 토큰을 텍스트로 디코딩\n",
    "generated_texts = tokenizer.batch_decode(outs, skip_special_tokens=True)\n",
    "\n",
    "processed_outs = []\n",
    "for idx, text in enumerate(generated_texts):\n",
    "    if idx == 0:\n",
    "        continue  # 첫 번째 출력은 건너뜀\n",
    "    # 마지막 \\n 이후의 부분만 추출\n",
    "    last_newline_pos = text.rfind('\\n')\n",
    "    if last_newline_pos != -1:\n",
    "        extracted_text = text[last_newline_pos + 1:].strip()\n",
    "    else:\n",
    "        extracted_text = text.strip()\n",
    "    # 결과를 딕셔너리로 감싸고 리스트에 추가\n",
    "    processed_outs.append([{\"generated_text\": extracted_text}])\n",
    "\n",
    "# torch.cuda.synchronize()\n",
    "\n",
    "# 추론 종료 시간 측정\n",
    "end = time.perf_counter()"
   ]
  },
  {
   "cell_type": "code",
   "execution_count": null,
   "metadata": {},
   "outputs": [],
   "source": [
    "print(\"===== Answers =====\")\n",
    "correct = 0\n",
    "for i, out in enumerate(processed_outs):\n",
    "    correct_answer = data[i][\"answer\"]\n",
    "    answer = out[0][\"generated_text\"].lstrip().replace(\"\\n\",\"\")\n",
    "    if answer == correct_answer:\n",
    "        correct += 1\n",
    "    # print(answer)\n",
    " \n",
    "print(\"===== Perf result =====\")\n",
    "print(\"Elapsed_time: \", end-start)\n",
    "print(f\"Correctness: {correct}/{len(data)}\")"
   ]
  }
 ],
 "metadata": {
  "kernelspec": {
   "display_name": "harikang",
   "language": "python",
   "name": "harikang"
  },
  "language_info": {
   "codemirror_mode": {
    "name": "ipython",
    "version": 3
   },
   "file_extension": ".py",
   "mimetype": "text/x-python",
   "name": "python",
   "nbconvert_exporter": "python",
   "pygments_lexer": "ipython3",
   "version": "3.12.4"
  }
 },
 "nbformat": 4,
 "nbformat_minor": 2
}
