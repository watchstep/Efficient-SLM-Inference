{
 "cells": [
  {
   "cell_type": "code",
   "execution_count": 1,
   "metadata": {},
   "outputs": [
    {
     "name": "stderr",
     "output_type": "stream",
     "text": [
      "/home/elicer/miniconda3/envs/jjj/lib/python3.10/site-packages/tqdm/auto.py:21: TqdmWarning: IProgress not found. Please update jupyter and ipywidgets. See https://ipywidgets.readthedocs.io/en/stable/user_install.html\n",
      "  from .autonotebook import tqdm as notebook_tqdm\n"
     ]
    },
    {
     "ename": "ModuleNotFoundError",
     "evalue": "No module named 'llama_cpp'",
     "output_type": "error",
     "traceback": [
      "\u001b[0;31m---------------------------------------------------------------------------\u001b[0m",
      "\u001b[0;31mModuleNotFoundError\u001b[0m                       Traceback (most recent call last)",
      "\u001b[1;32m/home/elicer/Efficient-SLM-Inference/lamma_cpp_py.ipynb Cell 1\u001b[0m line \u001b[0;36m1\n\u001b[1;32m     <a href='vscode-notebook-cell://ccdtxzcabztdkyds.tunnel-pt.elice.io/home/elicer/Efficient-SLM-Inference/lamma_cpp_py.ipynb#W0sdnNjb2RlLXJlbW90ZQ%3D%3D?line=9'>10</a>\u001b[0m \u001b[39mfrom\u001b[39;00m \u001b[39mdatasets\u001b[39;00m \u001b[39mimport\u001b[39;00m load_dataset\n\u001b[1;32m     <a href='vscode-notebook-cell://ccdtxzcabztdkyds.tunnel-pt.elice.io/home/elicer/Efficient-SLM-Inference/lamma_cpp_py.ipynb#W0sdnNjb2RlLXJlbW90ZQ%3D%3D?line=10'>11</a>\u001b[0m \u001b[39mfrom\u001b[39;00m \u001b[39mhuggingface_hub\u001b[39;00m \u001b[39mimport\u001b[39;00m hf_hub_download\n\u001b[0;32m---> <a href='vscode-notebook-cell://ccdtxzcabztdkyds.tunnel-pt.elice.io/home/elicer/Efficient-SLM-Inference/lamma_cpp_py.ipynb#W0sdnNjb2RlLXJlbW90ZQ%3D%3D?line=12'>13</a>\u001b[0m \u001b[39mfrom\u001b[39;00m \u001b[39mllama_cpp\u001b[39;00m \u001b[39mimport\u001b[39;00m Llama\n\u001b[1;32m     <a href='vscode-notebook-cell://ccdtxzcabztdkyds.tunnel-pt.elice.io/home/elicer/Efficient-SLM-Inference/lamma_cpp_py.ipynb#W0sdnNjb2RlLXJlbW90ZQ%3D%3D?line=13'>14</a>\u001b[0m \u001b[39mfrom\u001b[39;00m \u001b[39mllama_cpp\u001b[39;00m\u001b[39m.\u001b[39;00m\u001b[39mllama_speculative\u001b[39;00m \u001b[39mimport\u001b[39;00m LlamaPromptLookupDecoding\n",
      "\u001b[0;31mModuleNotFoundError\u001b[0m: No module named 'llama_cpp'"
     ]
    }
   ],
   "source": [
    "###  Import Library  ###\n",
    "import os\n",
    "import time\n",
    "import random\n",
    "import argparse\n",
    "\n",
    "import numpy as np\n",
    "import torch\n",
    "\n",
    "from datasets import load_dataset\n",
    "from huggingface_hub import hf_hub_download\n",
    "\n",
    "from llama_cpp import Llama\n",
    "from llama_cpp.llama_speculative import LlamaPromptLookupDecoding"
   ]
  },
  {
   "cell_type": "code",
   "execution_count": null,
   "metadata": {},
   "outputs": [],
   "source": [
    "!pip install --no-cache-dir llama-cpp-python --extra-index-url https://abetlen.github.io/llama-cpp-python/whl/cu122"
   ]
  },
  {
   "cell_type": "code",
   "execution_count": 2,
   "metadata": {},
   "outputs": [
    {
     "name": "stdout",
     "output_type": "stream",
     "text": [
      "Collecting llama-cpp-python\n",
      "  Downloading llama_cpp_python-0.3.1.tar.gz (63.9 MB)\n",
      "\u001b[2K     \u001b[90m━━━━━━━━━━━━━━━━━━━━━━━━━━━━━━━━━━━━━━━━\u001b[0m \u001b[32m63.9/63.9 MB\u001b[0m \u001b[31m72.8 MB/s\u001b[0m eta \u001b[36m0:00:00\u001b[0ma \u001b[36m0:00:01\u001b[0m\n",
      "\u001b[?25h"
     ]
    }
   ],
   "source": [
    "!CMAKE_ARGS=\"-DGGML_CUDA=on\" FORCE_CMAKE=1 pip install llama-cpp-python --force-reinstall --upgrade --no-cache-dir"
   ]
  },
  {
   "cell_type": "code",
   "execution_count": 1,
   "metadata": {},
   "outputs": [
    {
     "ename": "NameError",
     "evalue": "name 'argparse' is not defined",
     "output_type": "error",
     "traceback": [
      "\u001b[0;31m---------------------------------------------------------------------------\u001b[0m",
      "\u001b[0;31mNameError\u001b[0m                                 Traceback (most recent call last)",
      "\u001b[1;32m/home/elicer/Efficient-SLM-Inference/lamma_cpp_py.ipynb Cell 4\u001b[0m line \u001b[0;36m2\n\u001b[1;32m      <a href='vscode-notebook-cell://ccdtxzcabztdkyds.tunnel-pt.elice.io/home/elicer/Efficient-SLM-Inference/lamma_cpp_py.ipynb#W1sdnNjb2RlLXJlbW90ZQ%3D%3D?line=0'>1</a>\u001b[0m \u001b[39m###  Config  ###\u001b[39;00m\n\u001b[0;32m----> <a href='vscode-notebook-cell://ccdtxzcabztdkyds.tunnel-pt.elice.io/home/elicer/Efficient-SLM-Inference/lamma_cpp_py.ipynb#W1sdnNjb2RlLXJlbW90ZQ%3D%3D?line=1'>2</a>\u001b[0m parser \u001b[39m=\u001b[39m argparse\u001b[39m.\u001b[39mArgumentParser(description\u001b[39m=\u001b[39m\u001b[39m\"\u001b[39m\u001b[39mllama.cpp\u001b[39m\u001b[39m\"\u001b[39m)\n\u001b[1;32m      <a href='vscode-notebook-cell://ccdtxzcabztdkyds.tunnel-pt.elice.io/home/elicer/Efficient-SLM-Inference/lamma_cpp_py.ipynb#W1sdnNjb2RlLXJlbW90ZQ%3D%3D?line=2'>3</a>\u001b[0m parser\u001b[39m.\u001b[39madd_argument(\u001b[39m\"\u001b[39m\u001b[39m--model_dir\u001b[39m\u001b[39m\"\u001b[39m, \u001b[39mtype\u001b[39m\u001b[39m=\u001b[39m\u001b[39mstr\u001b[39m, default\u001b[39m=\u001b[39m\u001b[39m\"\u001b[39m\u001b[39m./models/\u001b[39m\u001b[39m\"\u001b[39m)\n\u001b[1;32m      <a href='vscode-notebook-cell://ccdtxzcabztdkyds.tunnel-pt.elice.io/home/elicer/Efficient-SLM-Inference/lamma_cpp_py.ipynb#W1sdnNjb2RlLXJlbW90ZQ%3D%3D?line=3'>4</a>\u001b[0m parser\u001b[39m.\u001b[39madd_argument(\u001b[39m\"\u001b[39m\u001b[39m--data_dir\u001b[39m\u001b[39m\"\u001b[39m, \u001b[39mtype\u001b[39m\u001b[39m=\u001b[39m\u001b[39mstr\u001b[39m, default\u001b[39m=\u001b[39m\u001b[39m\"\u001b[39m\u001b[39m./data/\u001b[39m\u001b[39m\"\u001b[39m)\n",
      "\u001b[0;31mNameError\u001b[0m: name 'argparse' is not defined"
     ]
    }
   ],
   "source": [
    "###  Config  ###\n",
    "parser = argparse.ArgumentParser(description=\"llama.cpp\")\n",
    "parser.add_argument(\"--model_dir\", type=str, default=\"./models/\")\n",
    "parser.add_argument(\"--data_dir\", type=str, default=\"./data/\")\n",
    "parser.add_argument(\"--data_name\", type=str, default=\"test_dataset.jsonl\")\n",
    "parser.add_argument('--n_gpu_layers', type=int, default=30, )\n",
    "parser.add_argument('--num_pred_tokens', type=int, default=10, help=\"speculative decoding\")\n",
    "parser.add_argument('--seed',type=int, default=0)\n",
    "parser.add_argument('--temperature', type=float, default=0.0)\n",
    "\n",
    "config = parser.parse_args([])\n",
    "\n",
    "DEVICE = torch.device(\"cuda\" if torch.cuda.is_available() else \"cpu\")"
   ]
  },
  {
   "cell_type": "code",
   "execution_count": null,
   "metadata": {},
   "outputs": [],
   "source": [
    "def _seed_everything(seed):\n",
    "    os.environ[\"PYTHONHASHSEED\"] = str(seed)\n",
    "    random.seed(seed)\n",
    "    np.random.seed(seed)\n",
    "    torch.manual_seed(seed)\n",
    "    torch.cuda.manual_seed(seed)\n",
    "    torch.cuda.manual_seed_all(seed)\n",
    "    torch.backends.cudnn.deterministic = True\n",
    "    torch.backends.cudnn.benchmark = True # False\n",
    "\n",
    "_seed_everything(config.seed)"
   ]
  },
  {
   "cell_type": "code",
   "execution_count": null,
   "metadata": {},
   "outputs": [],
   "source": [
    "###  Load Model  ###\n",
    "model = Llama.from_pretrained(\n",
    "\trepo_id=\"watchstep/Phi-3-medium-4k-instruct-fP32-gguf\",\n",
    "\tfilename=\"Phi-3-medium-4k-instruct-fp32.gguf\",\n",
    "\tn_gpu_layers=30,\n",
    "\tn_ctx=1024,\n",
    "\tverbose=False,\n",
    "    seed=config.seed,\n",
    "\tdraft_model=LlamaPromptLookupDecoding(num_pred_tokens=num_pred_tokens),\n",
    "    cache_dir=config.model_dir,\n",
    ")"
   ]
  },
  {
   "cell_type": "code",
   "execution_count": null,
   "metadata": {},
   "outputs": [],
   "source": [
    "def apply_chat_template(messages):\n",
    "    formatted_messages = []\n",
    "    \n",
    "    for message in messages:\n",
    "        formatted = [] \n",
    "        for msg in message:\n",
    "            if isinstance(msg, dict):\n",
    "                role = msg.get(\"role\")\n",
    "                content = msg.get(\"content\", \"\").strip()  \n",
    "                \n",
    "                if role == \"user\":\n",
    "                    formatted.append(f\"<|user|>\\n\\n{content}\\n<|end|>\\n\")\n",
    "        \n",
    "        formatted.append(\"<|assistant|>\\n\")\n",
    "        formatted_messages.append(''.join(formatted))\n",
    "    \n",
    "    return formatted_messages"
   ]
  },
  {
   "cell_type": "code",
   "execution_count": null,
   "metadata": {},
   "outputs": [],
   "source": [
    "###  Warm up ###\n",
    "system_message = \"You are a helpful AI Assistant. Help users by replying to their queries and make sure the responses are polite. Do not hallucinate.\"\n",
    "prompt = f\"<|assistant|>\\n{system_message}<|end|>\"\n",
    "\n",
    "output = model(\n",
    "      prompt,\n",
    "      max_tokens=32,\n",
    "      echo=False,\n",
    ")\n",
    "\n",
    "print(output['choices'][0]['text'])"
   ]
  },
  {
   "cell_type": "code",
   "execution_count": null,
   "metadata": {},
   "outputs": [],
   "source": [
    "### Load data and Inference ### \n",
    "start = time.perf_counter()\n",
    "\n",
    "data = load_dataset(\"json\", data_files=\"./data/test_dataset.jsonl\")['train']\n",
    "messages = data['message']\n",
    "token_ids = apply_chat_template(messages)\n",
    "\n",
    "outs = []\n",
    "for token_id in token_ids:\n",
    "    with torch.inference_mode(), torch.cuda.amp.autocast():\n",
    "        output = model(token_id,\n",
    "        temperature=config.temperature,\n",
    "        echo=False)\n",
    "\n",
    "    out = output['choices'][0]['text']\n",
    "\n",
    "    outs.append([{\n",
    "        'generated_text': out\n",
    "    }])\n",
    "\n",
    "end = time.perf_counter()"
   ]
  },
  {
   "cell_type": "code",
   "execution_count": null,
   "metadata": {},
   "outputs": [],
   "source": [
    "#### Benchmark ###\n",
    "print(\"===== Answers =====\")\n",
    "correct = 0\n",
    "for i, out in enumerate(outs):\n",
    "    correct_answer = data[i][\"answer\"]\n",
    "    answer = out[0][\"generated_text\"].lstrip().replace(\"\\n\",\"\")\n",
    "    if answer == correct_answer:\n",
    "        correct += 1\n",
    " \n",
    "print(\"===== Perf result =====\")\n",
    "print(\"Elapsed_time: \", end-start)\n",
    "print(f\"Correctness: {correct}/{len(data)}\")"
   ]
  }
 ],
 "metadata": {
  "kernelspec": {
   "display_name": "jjj",
   "language": "python",
   "name": "python3"
  },
  "language_info": {
   "codemirror_mode": {
    "name": "ipython",
    "version": 3
   },
   "file_extension": ".py",
   "mimetype": "text/x-python",
   "name": "python",
   "nbconvert_exporter": "python",
   "pygments_lexer": "ipython3",
   "version": "3.10.14"
  }
 },
 "nbformat": 4,
 "nbformat_minor": 2
}
