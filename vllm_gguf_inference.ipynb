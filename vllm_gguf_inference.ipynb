{
 "cells": [
  {
   "cell_type": "code",
   "execution_count": 1,
   "metadata": {},
   "outputs": [],
   "source": [
    "import os\n",
    "import time\n",
    "\n",
    "import numpy as np\n",
    "import torch\n",
    "import argparse\n",
    "\n",
    "from datasets import load_dataset\n",
    "from transformers import (AutoModelForCausalLM,\n",
    "                          AutoTokenizer, \n",
    "                          Phi3ForCausalLM,\n",
    "                          Phi3Config,\n",
    "                          pipeline,\n",
    "                          )\n",
    "from transformers.pipelines.pt_utils import KeyDataset\n",
    "from huggingface_hub import hf_hub_download\n",
    "from vllm import LLM, SamplingParams\n",
    "\n",
    "import utils"
   ]
  },
  {
   "cell_type": "code",
   "execution_count": null,
   "metadata": {},
   "outputs": [],
   "source": [
    "def run_gguf_inference(model_path):\n",
    "    PROMPT_TEMPLATE = \"<|system|>\\n{system_message}</s>\\n<|user|>\\n{prompt}</s>\\n<|assistant|>\\n\"  # noqa: E501\n",
    "    system_message = \"You are a friendly chatbot who always responds in the style of a pirate.\"  # noqa: E501\n",
    "    # Sample prompts.\n",
    "    prompts = [\n",
    "        \"How many helicopters can a human eat in one sitting?\",\n",
    "        \"What's the future of AI?\",\n",
    "    ]\n",
    "    prompts = [\n",
    "        PROMPT_TEMPLATE.format(system_message=system_message, prompt=prompt)\n",
    "        for prompt in prompts\n",
    "    ]\n",
    "    # Create a sampling params object.\n",
    "    sampling_params = SamplingParams(temperature=0, max_tokens=128)\n",
    "\n",
    "    # Create an LLM.\n",
    "    llm = LLM(model=model_path,\n",
    "              tokenizer=\"TinyLlama/TinyLlama-1.1B-Chat-v1.0\",\n",
    "              gpu_memory_utilization=0.95)\n",
    "\n",
    "    outputs = llm.generate(prompts, sampling_params)\n",
    "    # Print the outputs.\n",
    "    for output in outputs:\n",
    "        prompt = output.prompt\n",
    "        generated_text = output.outputs[0].text\n",
    "        print(f\"Prompt: {prompt!r}, Generated text: {generated_text!r}\")\n",
    "\n",
    "\n",
    "if __name__ == \"__main__\":\n",
    "    repo_id = \"TheBloke/TinyLlama-1.1B-Chat-v1.0-GGUF\"\n",
    "    filename = \"tinyllama-1.1b-chat-v1.0.Q4_0.gguf\"\n",
    "    model = hf_hub_download(repo_id, filename=filename)\n",
    "    run_gguf_inference(model)"
   ]
  },
  {
   "cell_type": "code",
   "execution_count": null,
   "metadata": {},
   "outputs": [],
   "source": [
    "\n",
    "if __name__ == \"__main__\":\n",
    "    parser = argparse.ArgumentParser(description=\"vLLM + MInference\")\n",
    "    parser.add_argument(\"--model_path\", type=str, default=\"models/\")\n",
    "    parser.add_argument(\"--model_name\", type=str, default=\"Phi-3-medium-4k-instruct\")\n",
    "    parser.add_argument(\"--data_path\", type=str, default=\"data/\")\n",
    "    parser.add_argument(\"--dataset\", type=str, default=\"test_dataset.jsonl\")\n",
    "    parser.add_argument('--seed',type=int, default=0)\n",
    "    parser.add_argument(\"--batch_size\", type=int, default=1)\n",
    "    parser.add_argument('--dtype',type=str, default=\"auto\")\n",
    "    parser.add_argument('--gpu_memory_utilization',type=float, default=0.9) # 0.3, 0.5\n",
    "    parser.add_argument('--enforce_eager',type=bool, default=False)\n",
    "    \n",
    "    parser.add_argument('--n', type=int, default=1)\n",
    "    parser.add_argument('--temperature', type=float, default=0.0)\n",
    "parser.add_argument('--top_p', type=float, default=1.0)\n",
    "parser.add_argument('--top_k', type=float, default=-1)\n",
    "parser.add_argument('--ignore_eos', type=bool, default=True)\n",
    "parser.add_argument('--max_tokens', type=int, default=500)\n",
    "\n",
    "config = parser.parse_args([])\n",
    "utils.seed_everything(config.seed)\n",
    "CURR_PATH = os.getcwd()"
   ]
  }
 ],
 "metadata": {
  "kernelspec": {
   "display_name": "yaikids",
   "language": "python",
   "name": "python3"
  },
  "language_info": {
   "codemirror_mode": {
    "name": "ipython",
    "version": 3
   },
   "file_extension": ".py",
   "mimetype": "text/x-python",
   "name": "python",
   "nbconvert_exporter": "python",
   "pygments_lexer": "ipython3",
   "version": "3.10.14"
  }
 },
 "nbformat": 4,
 "nbformat_minor": 2
}
